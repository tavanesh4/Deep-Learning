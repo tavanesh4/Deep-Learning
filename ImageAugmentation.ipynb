{
  "nbformat": 4,
  "nbformat_minor": 0,
  "metadata": {
    "colab": {
      "name": "ImageAugmentation.ipynb",
      "provenance": []
    },
    "kernelspec": {
      "name": "python3",
      "display_name": "Python 3"
    }
  },
  "cells": [
    {
      "cell_type": "code",
      "metadata": {
        "id": "w7VebOnaGqCc",
        "colab_type": "code",
        "colab": {}
      },
      "source": [
        "from keras.preprocessing.image import load_img,ImageDataGenerator, img_to_array"
      ],
      "execution_count": 0,
      "outputs": []
    },
    {
      "cell_type": "code",
      "metadata": {
        "id": "LMIlgTJ8LqeN",
        "colab_type": "code",
        "colab": {}
      },
      "source": [
        ""
      ],
      "execution_count": 0,
      "outputs": []
    },
    {
      "cell_type": "code",
      "metadata": {
        "id": "7M0oVJ0sHO2q",
        "colab_type": "code",
        "colab": {}
      },
      "source": [
        "image = load_img(\"/content/Stocksy_txp33a24e10lxw100_Medium_214761-5af9d6d7875db900360440a7.jpg\")"
      ],
      "execution_count": 0,
      "outputs": []
    },
    {
      "cell_type": "code",
      "metadata": {
        "id": "9KO-3Qt1HVaM",
        "colab_type": "code",
        "outputId": "35664a28-d01a-4416-ac2c-03c80994f922",
        "colab": {
          "base_uri": "https://localhost:8080/",
          "height": 35
        }
      },
      "source": [
        "x = img_to_array(image)\n",
        "x.shape"
      ],
      "execution_count": 0,
      "outputs": [
        {
          "output_type": "execute_result",
          "data": {
            "text/plain": [
              "(1151, 1535, 3)"
            ]
          },
          "metadata": {
            "tags": []
          },
          "execution_count": 18
        }
      ]
    },
    {
      "cell_type": "code",
      "metadata": {
        "id": "NeoYxIS0HbWG",
        "colab_type": "code",
        "outputId": "689441c2-293e-4903-dd2c-b9461c25c35c",
        "colab": {
          "base_uri": "https://localhost:8080/",
          "height": 35
        }
      },
      "source": [
        "x = x.reshape((1,) + x.shape)\n",
        "x.shape"
      ],
      "execution_count": 0,
      "outputs": [
        {
          "output_type": "execute_result",
          "data": {
            "text/plain": [
              "(1, 1151, 1535, 3)"
            ]
          },
          "metadata": {
            "tags": []
          },
          "execution_count": 22
        }
      ]
    },
    {
      "cell_type": "code",
      "metadata": {
        "id": "PROizpagHtrn",
        "colab_type": "code",
        "colab": {}
      },
      "source": [
        "datagenerator = ImageDataGenerator(featurewise_center = True, width_shift_range = 0.2, \n",
        "                                   zoom_range = 0.8,\n",
        "                                   horizontal_flip = True, \n",
        "                                   vertical_flip =True,\n",
        "                                   rotation_range = 20)"
      ],
      "execution_count": 0,
      "outputs": []
    },
    {
      "cell_type": "code",
      "metadata": {
        "id": "RDn_0fruHmAI",
        "colab_type": "code",
        "outputId": "67762a1a-ec77-4779-98a7-bb3f7121f2e1",
        "colab": {
          "base_uri": "https://localhost:8080/",
          "height": 74
        }
      },
      "source": [
        "i = 0\n",
        "for batch in  datagenerator.flow(x,batch_size = 1, save_to_dir=\"/content/cats_modified\",save_format='jpeg',save_prefix=\"car\" ):\n",
        "  i = i+1\n",
        "  if(i >14):\n",
        "    break\n"
      ],
      "execution_count": 0,
      "outputs": [
        {
          "output_type": "stream",
          "text": [
            "/usr/local/lib/python3.6/dist-packages/keras_preprocessing/image/image_data_generator.py:716: UserWarning: This ImageDataGenerator specifies `featurewise_center`, but it hasn't been fit on any training data. Fit it first by calling `.fit(numpy_data)`.\n",
            "  warnings.warn('This ImageDataGenerator specifies '\n"
          ],
          "name": "stderr"
        }
      ]
    },
    {
      "cell_type": "code",
      "metadata": {
        "id": "uD-8mxAaJRUM",
        "colab_type": "code",
        "colab": {}
      },
      "source": [
        ""
      ],
      "execution_count": 0,
      "outputs": []
    }
  ]
}